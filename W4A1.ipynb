{
  "metadata": {
    "language_info": {
      "codemirror_mode": {
        "name": "python",
        "version": 3
      },
      "file_extension": ".py",
      "mimetype": "text/x-python",
      "name": "python",
      "nbconvert_exporter": "python",
      "pygments_lexer": "ipython3",
      "version": "3.8"
    },
    "kernelspec": {
      "name": "python",
      "display_name": "Python (Pyodide)",
      "language": "python"
    }
  },
  "nbformat_minor": 4,
  "nbformat": 4,
  "cells": [
    {
      "cell_type": "markdown",
      "source": "Q1. Explain Class and Object with respect to Object-Oriented Programming. Give a suitable example.",
      "metadata": {}
    },
    {
      "cell_type": "markdown",
      "source": "A class is a object constructor or a blueprint for creating objects and an object is an instance of class by which we can access the data members and member functions of the class.",
      "metadata": {}
    },
    {
      "cell_type": "code",
      "source": "class animal:\n    \n    def voice(self,voice):\n        return \"dog's voice is\",voice",
      "metadata": {
        "trusted": true
      },
      "execution_count": 18,
      "outputs": []
    },
    {
      "cell_type": "code",
      "source": "dog = animal()",
      "metadata": {
        "trusted": true
      },
      "execution_count": 21,
      "outputs": []
    },
    {
      "cell_type": "code",
      "source": "dog.voice('bark')",
      "metadata": {
        "trusted": true
      },
      "execution_count": 20,
      "outputs": [
        {
          "execution_count": 20,
          "output_type": "execute_result",
          "data": {
            "text/plain": "(\"dog's voice is\", 'bark')"
          },
          "metadata": {}
        }
      ]
    },
    {
      "cell_type": "markdown",
      "source": "Here Animal is a class or a blueprint and dog is an object through which we can access the function voice of the animal class",
      "metadata": {}
    },
    {
      "cell_type": "markdown",
      "source": "Q2. Name the four pillars of OOPs.",
      "metadata": {}
    },
    {
      "cell_type": "markdown",
      "source": "The four pillars of OOPs are \n1. Inheritance\n2. Polymorphism\n3. Encapsulation\n4. Abstraction",
      "metadata": {}
    },
    {
      "cell_type": "markdown",
      "source": "Q3. Explain why the __init__() function is used. Give a suitable example.",
      "metadata": {}
    },
    {
      "cell_type": "markdown",
      "source": "The init function is a constructor and its work is to assign values to the data members of the class when the object of a class is created.",
      "metadata": {}
    },
    {
      "cell_type": "code",
      "source": "class vehicles:\n    \n    def __init__(self,company,speed):\n        self.company = company\n        self.speed = speed\n    ",
      "metadata": {
        "trusted": true
      },
      "execution_count": 32,
      "outputs": []
    },
    {
      "cell_type": "code",
      "source": "car = vehicles('TATA',200)",
      "metadata": {
        "trusted": true
      },
      "execution_count": 34,
      "outputs": []
    },
    {
      "cell_type": "code",
      "source": "car.company",
      "metadata": {
        "trusted": true
      },
      "execution_count": 36,
      "outputs": [
        {
          "execution_count": 36,
          "output_type": "execute_result",
          "data": {
            "text/plain": "'TATA'"
          },
          "metadata": {}
        }
      ]
    },
    {
      "cell_type": "markdown",
      "source": "Here class is vehicles and object is car. Init function is a constructor as it assigns values to the data members i.e company and speed.",
      "metadata": {}
    },
    {
      "cell_type": "markdown",
      "source": "Q4. Why self is used in OOPs?",
      "metadata": {}
    },
    {
      "cell_type": "markdown",
      "source": "Self represents the instance of the class. This keyword allows us to access variables, attributes and methods inside of the class. This self parameter does'nt have to be named as SELF as any other keyword will do the same task but SELF is used commonly, like a SI unit",
      "metadata": {}
    },
    {
      "cell_type": "markdown",
      "source": "Q5. What is inheritance? Give an example for each type of inheritance.",
      "metadata": {}
    },
    {
      "cell_type": "markdown",
      "source": "Inheritance is a mechanism of inheriting the properties of one or many parent class to another child class\n\nThe types are:-",
      "metadata": {}
    },
    {
      "cell_type": "markdown",
      "source": "Single Inheritance:-\n\nSingle inheritance enables a derived class to inherit properties from a single parent class, thus enabling code reusability and the addition of new features to existing code.\n",
      "metadata": {}
    },
    {
      "cell_type": "code",
      "source": "\n\nclass Parent:\n    def func1(self):\n        print(\"This function is in parent class.\")\n \n# Derived class\n \n \nclass Child(Parent):\n    def func2(self):\n        print(\"This function is in child class.\")",
      "metadata": {
        "trusted": true
      },
      "execution_count": 44,
      "outputs": []
    },
    {
      "cell_type": "code",
      "source": "child_obj = Child()",
      "metadata": {
        "trusted": true
      },
      "execution_count": 45,
      "outputs": []
    },
    {
      "cell_type": "code",
      "source": "child_obj.func1()",
      "metadata": {
        "trusted": true
      },
      "execution_count": 46,
      "outputs": [
        {
          "name": "stdout",
          "text": "This function is in parent class.\n",
          "output_type": "stream"
        }
      ]
    },
    {
      "cell_type": "code",
      "source": "child_obj.func2()",
      "metadata": {
        "trusted": true
      },
      "execution_count": 47,
      "outputs": [
        {
          "name": "stdout",
          "text": "This function is in child class.\n",
          "output_type": "stream"
        }
      ]
    },
    {
      "cell_type": "markdown",
      "source": "Multiple Inheritance: \n    \nWhen a class can be derived from more than one base class this type of inheritance is called multiple inheritances. In multiple inheritances, all the features of the base classes are inherited into the derived class. ",
      "metadata": {}
    },
    {
      "cell_type": "code",
      "source": "# Python program to demonstrate\n# multiple inheritance\n \n# Base class1\nclass Mother:\n    mothername = \"\"\n \n    def mother(self):\n        print(self.mothername)\n \n# Base class2\n \n \nclass Father:\n    fathername = \"\"\n \n    def father(self):\n        print(self.fathername)\n \n# Derived class\n \n \nclass Son(Mother, Father):\n    def parents(self):\n        print(\"Father :\", self.fathername)\n        print(\"Mother :\", self.mothername)\n \n \n# Driver's code\ns1 = Son()\ns1.fathername = \"RAM\"\ns1.mothername = \"SITA\"\ns1.parents()",
      "metadata": {
        "trusted": true
      },
      "execution_count": 48,
      "outputs": [
        {
          "name": "stdout",
          "text": "Father : RAM\nMother : SITA\n",
          "output_type": "stream"
        }
      ]
    },
    {
      "cell_type": "markdown",
      "source": "Multilevel Inheritance :\n\nIn multilevel inheritance, features of the base class and the derived class are further inherited into the new derived class. This is similar to a relationship representing a child and a grandfather. ",
      "metadata": {}
    },
    {
      "cell_type": "code",
      "source": "class Grandfather:\n \n    def __init__(self, grandfathername):\n        self.grandfathername = grandfathername\n \n# Intermediate class\n \n \nclass Father(Grandfather):\n    def __init__(self, fathername, grandfathername):\n        self.fathername = fathername\n \n        # invoking constructor of Grandfather class\n        Grandfather.__init__(self, grandfathername)\n \n# Derived class\n \n \nclass Son(Father):\n    def __init__(self, sonname, fathername, grandfathername):\n        self.sonname = sonname\n \n        # invoking constructor of Father class\n        Father.__init__(self, fathername, grandfathername)\n \n    def print_name(self):\n        print('Grandfather name :', self.grandfathername)\n        print(\"Father name :\", self.fathername)\n        print(\"Son name :\", self.sonname)\n \n \n#  Driver code\ns1 = Son('Prince', 'Rampal', 'Lal mani')\nprint(s1.grandfathername)\ns1.print_name()",
      "metadata": {
        "trusted": true
      },
      "execution_count": 54,
      "outputs": [
        {
          "name": "stdout",
          "text": "Lal mani\nGrandfather name : Lal mani\nFather name : Rampal\nSon name : Prince\n",
          "output_type": "stream"
        }
      ]
    },
    {
      "cell_type": "markdown",
      "source": "Hierarchical Inheritance: \n\nWhen more than one derived class are created from a single base this type of inheritance is called hierarchical inheritance. In this program, we have a parent (base) class and two child (derived) classes.",
      "metadata": {}
    },
    {
      "cell_type": "code",
      "source": "# Python program to demonstrate\n# Hierarchical inheritance\n \n \n# Base class\nclass Parent:\n    def func1(self):\n        print(\"This function is in parent class.\")\n \n# Derived class1\n \n \nclass Child1(Parent):\n    def func2(self):\n        print(\"This function is in child 1.\")\n \n# Derivied class2\n \n \nclass Child2(Parent):\n    def func3(self):\n        print(\"This function is in child 2.\")\n \n \n# Driver's code\nobject1 = Child1()\nobject2 = Child2()\nobject1.func1()\nobject1.func2()\nobject2.func1()\nobject2.func3()",
      "metadata": {
        "trusted": true
      },
      "execution_count": 55,
      "outputs": [
        {
          "name": "stdout",
          "text": "This function is in parent class.\nThis function is in child 1.\nThis function is in parent class.\nThis function is in child 2.\n",
          "output_type": "stream"
        }
      ]
    },
    {
      "cell_type": "markdown",
      "source": "Hybrid Inheritance: \n\nInheritance consisting of multiple types of inheritance is called hybrid inheritance.",
      "metadata": {}
    },
    {
      "cell_type": "code",
      "source": "# Python program to demonstrate\n# hybrid inheritance\n \n \nclass School:\n    def func1(self):\n        print(\"This function is in school.\")\n \n \nclass Student1(School):\n    def func2(self):\n        print(\"This function is in student 1. \")\n \n \nclass Student2(School):\n    def func3(self):\n        print(\"This function is in student 2.\")\n \n \nclass Student3(Student1, School):\n    def func4(self):\n        print(\"This function is in student 3.\")\n \n \n# Driver's code\nobject = Student3()\nobject.func1()\nobject.func2()",
      "metadata": {
        "trusted": true
      },
      "execution_count": 56,
      "outputs": [
        {
          "name": "stdout",
          "text": "This function is in school.\nThis function is in student 1. \n",
          "output_type": "stream"
        }
      ]
    }
  ]
}