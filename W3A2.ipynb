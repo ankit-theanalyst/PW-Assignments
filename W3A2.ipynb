{
  "metadata": {
    "language_info": {
      "codemirror_mode": {
        "name": "python",
        "version": 3
      },
      "file_extension": ".py",
      "mimetype": "text/x-python",
      "name": "python",
      "nbconvert_exporter": "python",
      "pygments_lexer": "ipython3",
      "version": "3.8"
    },
    "kernelspec": {
      "name": "python",
      "display_name": "Python (Pyodide)",
      "language": "python"
    }
  },
  "nbformat_minor": 4,
  "nbformat": 4,
  "cells": [
    {
      "cell_type": "markdown",
      "source": "Q1. Create a python program to sort the given list of tuples based on integer value using a\nlambda function.\n[('Sachin Tendulkar', 34357), ('Ricky Ponting', 27483), ('Jack Kallis', 25534), ('Virat Kohli', 24936)]",
      "metadata": {}
    },
    {
      "cell_type": "code",
      "source": "data = [('Sachin Tendulkar', 34357), ('Ricky Ponting', 27483), ('Jack Kallis', 25534), ('Virat Kohli', 24936)]\n\nsorted_data = sorted(data, key=lambda x: x[1])\n\nprint(sorted_data)\n",
      "metadata": {
        "trusted": true
      },
      "execution_count": 19,
      "outputs": [
        {
          "name": "stdout",
          "text": "[('Virat Kohli', 24936), ('Jack Kallis', 25534), ('Ricky Ponting', 27483), ('Sachin Tendulkar', 34357)]\n",
          "output_type": "stream"
        }
      ]
    },
    {
      "cell_type": "markdown",
      "source": "Q2. Write a Python Program to find the squares of all the numbers in the given list of integers using\nlambda and map functions.\n[1, 2, 3, 4, 5, 6, 7, 8, 9, 10]",
      "metadata": {}
    },
    {
      "cell_type": "code",
      "source": "l1 = [1, 2, 3, 4, 5, 6, 7, 8, 9, 10]",
      "metadata": {
        "trusted": true
      },
      "execution_count": 20,
      "outputs": []
    },
    {
      "cell_type": "code",
      "source": "l2 = list(map(lambda x : x**2 , l1))\n\nl2",
      "metadata": {
        "trusted": true
      },
      "execution_count": 22,
      "outputs": [
        {
          "execution_count": 22,
          "output_type": "execute_result",
          "data": {
            "text/plain": "[1, 4, 9, 16, 25, 36, 49, 64, 81, 100]"
          },
          "metadata": {}
        }
      ]
    },
    {
      "cell_type": "markdown",
      "source": "Q3. Write a python program to convert the given list of integers into a tuple of strings. Use map and\nlambda functions\nGiven String: [1, 2, 3, 4, 5, 6, 7, 8, 9, 10]\nExpected output: ('1', '2', '3', '4', '5', '6', '7', '8', '9', '10')",
      "metadata": {}
    },
    {
      "cell_type": "code",
      "source": "Given_String = [1, 2, 3, 4, 5, 6, 7, 8, 9, 10]",
      "metadata": {
        "trusted": true
      },
      "execution_count": 23,
      "outputs": []
    },
    {
      "cell_type": "code",
      "source": "exp_out = tuple(map(lambda x : str(x) ,Given_String))\nexp_out",
      "metadata": {
        "trusted": true
      },
      "execution_count": 26,
      "outputs": [
        {
          "execution_count": 26,
          "output_type": "execute_result",
          "data": {
            "text/plain": "('1', '2', '3', '4', '5', '6', '7', '8', '9', '10')"
          },
          "metadata": {}
        }
      ]
    },
    {
      "cell_type": "markdown",
      "source": "Q4. Write a python program using reduce function to compute the product of a list containing numbers\nfrom 1 to 25.",
      "metadata": {}
    },
    {
      "cell_type": "code",
      "source": "from functools import reduce",
      "metadata": {
        "trusted": true
      },
      "execution_count": 29,
      "outputs": []
    },
    {
      "cell_type": "code",
      "source": "l = [items for items in range(1,26)]\n\nproduct = reduce(lambda x,y : x*y , l)",
      "metadata": {
        "trusted": true
      },
      "execution_count": 30,
      "outputs": []
    },
    {
      "cell_type": "code",
      "source": "product",
      "metadata": {
        "trusted": true
      },
      "execution_count": 31,
      "outputs": [
        {
          "execution_count": 31,
          "output_type": "execute_result",
          "data": {
            "text/plain": "15511210043330985984000000"
          },
          "metadata": {}
        }
      ]
    },
    {
      "cell_type": "markdown",
      "source": "Q5. Write a python program to filter the numbers in a given list that are divisible by 2 and 3 using the\nfilter function.\n[2, 3, 6, 9, 27, 60, 90, 120, 55, 46]",
      "metadata": {}
    },
    {
      "cell_type": "code",
      "source": "num = [2, 3, 6, 9, 27, 60, 90, 120, 55, 46]\n\nfil_num = list(filter(lambda x : x % 2 == 0 and x % 3 == 0, num))",
      "metadata": {
        "trusted": true
      },
      "execution_count": 34,
      "outputs": []
    },
    {
      "cell_type": "code",
      "source": "fil_num",
      "metadata": {
        "trusted": true
      },
      "execution_count": 35,
      "outputs": [
        {
          "execution_count": 35,
          "output_type": "execute_result",
          "data": {
            "text/plain": "[6, 60, 90, 120]"
          },
          "metadata": {}
        }
      ]
    },
    {
      "cell_type": "markdown",
      "source": "Q6. Write a python program to find palindromes in the given list of strings using lambda and filter\nfunction.\n['python', 'php', 'aba', 'radar', 'level']",
      "metadata": {}
    },
    {
      "cell_type": "code",
      "source": "l1 = ['python', 'php', 'aba', 'radar', 'level']",
      "metadata": {
        "trusted": true
      },
      "execution_count": 36,
      "outputs": []
    },
    {
      "cell_type": "code",
      "source": "l2 = list(filter(lambda x : x if x[::] == x[::-1] else False , l1 ))",
      "metadata": {
        "trusted": true
      },
      "execution_count": 42,
      "outputs": []
    },
    {
      "cell_type": "code",
      "source": "l2",
      "metadata": {
        "trusted": true
      },
      "execution_count": 43,
      "outputs": [
        {
          "execution_count": 43,
          "output_type": "execute_result",
          "data": {
            "text/plain": "['php', 'aba', 'radar', 'level']"
          },
          "metadata": {}
        }
      ]
    },
    {
      "cell_type": "code",
      "source": "",
      "metadata": {},
      "execution_count": null,
      "outputs": []
    }
  ]
}