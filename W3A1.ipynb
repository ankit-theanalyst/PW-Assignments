{
  "metadata": {
    "language_info": {
      "codemirror_mode": {
        "name": "python",
        "version": 3
      },
      "file_extension": ".py",
      "mimetype": "text/x-python",
      "name": "python",
      "nbconvert_exporter": "python",
      "pygments_lexer": "ipython3",
      "version": "3.8"
    },
    "kernelspec": {
      "name": "python",
      "display_name": "Python (Pyodide)",
      "language": "python"
    }
  },
  "nbformat_minor": 4,
  "nbformat": 4,
  "cells": [
    {
      "cell_type": "markdown",
      "source": "Q1. Which keyword is used to create a function? Create a function to return a list of odd numbers in the\nrange of 1 to 25.",
      "metadata": {}
    },
    {
      "cell_type": "code",
      "source": "#def is used to create a fucntion\n\n\ndef odd_num():\n    l = []\n    for i in range(26):\n        if i % 2 != 0:\n            l.append(i)\n    return l",
      "metadata": {
        "trusted": true
      },
      "execution_count": 1,
      "outputs": []
    },
    {
      "cell_type": "code",
      "source": "odd_num()",
      "metadata": {
        "trusted": true
      },
      "execution_count": 2,
      "outputs": [
        {
          "execution_count": 2,
          "output_type": "execute_result",
          "data": {
            "text/plain": "[1, 3, 5, 7, 9, 11, 13, 15, 17, 19, 21, 23, 25]"
          },
          "metadata": {}
        }
      ]
    },
    {
      "cell_type": "raw",
      "source": "Q2. Why *args and **kwargs is used in some functions? Create a function each for *args and **kwargs\nto demonstrate their use.",
      "metadata": {}
    },
    {
      "cell_type": "raw",
      "source": "The special syntax *args in function definitions in Python is used to pass a variable number of arguments to a function. It is used to pass a non-keyworded, variable-length argument list.\nThe special syntax **kwargs in function definitions in Python is used to pass a keyworded, variable-length argument list. ",
      "metadata": {}
    },
    {
      "cell_type": "code",
      "source": "def test1(*args):\n    return args",
      "metadata": {
        "trusted": true
      },
      "execution_count": 3,
      "outputs": []
    },
    {
      "cell_type": "code",
      "source": "test1(1,2,3,4)",
      "metadata": {
        "trusted": true
      },
      "execution_count": 4,
      "outputs": [
        {
          "execution_count": 4,
          "output_type": "execute_result",
          "data": {
            "text/plain": "(1, 2, 3, 4)"
          },
          "metadata": {}
        }
      ]
    },
    {
      "cell_type": "code",
      "source": "def test2(**kargs):\n    return kargs",
      "metadata": {
        "trusted": true
      },
      "execution_count": 5,
      "outputs": []
    },
    {
      "cell_type": "code",
      "source": "test2(a = 1, b = 2, c = 3)",
      "metadata": {
        "trusted": true
      },
      "execution_count": 6,
      "outputs": [
        {
          "execution_count": 6,
          "output_type": "execute_result",
          "data": {
            "text/plain": "{'a': 1, 'b': 2, 'c': 3}"
          },
          "metadata": {}
        }
      ]
    },
    {
      "cell_type": "raw",
      "source": "Q3. What is an iterator in python? Name the method used to initialise the iterator object and the method\nused for iteration. Use these methods to print the first five elements of the given list [2, 4, 6, 8, 10, 12, 14,\n16, 18, 20].",
      "metadata": {}
    },
    {
      "cell_type": "markdown",
      "source": "Iterator is an object in which we can run the next fucntion and extract the data. iter() method is used to initialise the iterator object and the method used for iteration is next().",
      "metadata": {}
    },
    {
      "cell_type": "code",
      "source": "l = [2,4,6,8,10,12,14,16,18,20]",
      "metadata": {
        "trusted": true
      },
      "execution_count": 7,
      "outputs": []
    },
    {
      "cell_type": "code",
      "source": "def first_five(l):\n    \n    '''this gives us first 5 elements of a given list'''\n    \n    iteration = iter(l)\n    for i in range(5):\n        print(next(iteration))\n",
      "metadata": {
        "trusted": true
      },
      "execution_count": 8,
      "outputs": []
    },
    {
      "cell_type": "code",
      "source": "first_five(l)",
      "metadata": {
        "trusted": true
      },
      "execution_count": 9,
      "outputs": [
        {
          "name": "stdout",
          "text": "2\n4\n6\n8\n10\n",
          "output_type": "stream"
        }
      ]
    },
    {
      "cell_type": "raw",
      "source": "Q4. What is a generator function in python? Why yield keyword is used? Give an example of a generator\nfunction.",
      "metadata": {}
    },
    {
      "cell_type": "markdown",
      "source": "A generator function is a one which keeps on generating value according to the written code. Yield keyword is used to control the flow of the generator fucntion, it is similar to the return keyword. Below is an example of generator function",
      "metadata": {}
    },
    {
      "cell_type": "code",
      "source": "#suppose we want to print first 10 fibonaci numbers\n\ndef fib(n):\n    \n    '''function to print first n numbers of fibonaci serier'''\n    \n    x , y = 0,1\n    for i in range(n):\n        yield x\n        x,y = y,x+y\n    ",
      "metadata": {
        "trusted": true
      },
      "execution_count": 10,
      "outputs": []
    },
    {
      "cell_type": "code",
      "source": "for i in fib(11):\n    print(i)",
      "metadata": {
        "trusted": true
      },
      "execution_count": 11,
      "outputs": [
        {
          "name": "stdout",
          "text": "0\n1\n1\n2\n3\n5\n8\n13\n21\n34\n55\n",
          "output_type": "stream"
        }
      ]
    },
    {
      "cell_type": "raw",
      "source": "Q5. Create a generator function for prime numbers less than 1000. Use the next() method to print the\nfirst 20 prime numbers.",
      "metadata": {}
    },
    {
      "cell_type": "code",
      "source": "def prime_generator():\n    primes = []\n    num = 2\n    while True:\n        is_prime = True\n        for prime in primes:\n            if num % prime == 0:\n                is_prime = False\n                break\n        if is_prime:\n            primes.append(num)\n            yield num\n        num += 1\n\n# Create an instance of the prime number generator\ngenerator = prime_generator()\n\n# Print the first 20 prime numbers\nfor _ in range(20):\n    prime = next(generator)\n    print(prime)",
      "metadata": {
        "trusted": true
      },
      "execution_count": 12,
      "outputs": [
        {
          "name": "stdout",
          "text": "2\n3\n5\n7\n11\n13\n17\n19\n23\n29\n31\n37\n41\n43\n47\n53\n59\n61\n67\n71\n",
          "output_type": "stream"
        }
      ]
    },
    {
      "cell_type": "raw",
      "source": "Q6. Write a python program to print the first 10 Fibonacci numbers using a while loop.   ",
      "metadata": {}
    },
    {
      "cell_type": "code",
      "source": "def fib():\n    \n    a,b = 0,1\n    \n    while True:\n        yield a\n        a,b = b,a+b",
      "metadata": {
        "trusted": true
      },
      "execution_count": 13,
      "outputs": []
    },
    {
      "cell_type": "code",
      "source": "fib1 = fib()",
      "metadata": {
        "trusted": true
      },
      "execution_count": 14,
      "outputs": []
    },
    {
      "cell_type": "code",
      "source": "for i in range(10):\n    print(next(fib1))",
      "metadata": {
        "trusted": true
      },
      "execution_count": 15,
      "outputs": [
        {
          "name": "stdout",
          "text": "0\n1\n1\n2\n3\n5\n8\n13\n21\n34\n",
          "output_type": "stream"
        }
      ]
    },
    {
      "cell_type": "raw",
      "source": "Q7. Write a List Comprehension to iterate through the given string: ‘pwskills’.\nExpected output: ['p', 'w', 's', 'k', 'i', 'l', 'l', 's']",
      "metadata": {}
    },
    {
      "cell_type": "raw",
      "source": "text = 'pwskills'\nnew_list = iter(list(text))\n\nlist(map(lambda x : x.upper(), new_list))",
      "metadata": {}
    },
    {
      "cell_type": "raw",
      "source": "Q8. Write a python program to check whether a given number is Palindrome or not using a while loop.",
      "metadata": {}
    },
    {
      "cell_type": "code",
      "source": "def palindrome(n):\n    \n    s = str(n)\n    reverse = s[::-1]\n    \n    while True:\n        is_palindrome = True\n        if s != reverse:\n            return False\n        else: \n            return True\n\n        \n#testing the function by entering the number\nif palindrome(24):\n    print('Yes this number is a palindrome')\nelse:\n    print(\"No this number is not a palindrome\")\n        ",
      "metadata": {
        "trusted": true
      },
      "execution_count": 21,
      "outputs": [
        {
          "name": "stdout",
          "text": "No this number is not a palindrome\n",
          "output_type": "stream"
        }
      ]
    },
    {
      "cell_type": "raw",
      "source": "Q9. Write a code to print odd numbers from 1 to 100 using list comprehension.",
      "metadata": {}
    },
    {
      "cell_type": "code",
      "source": "l1 = [i for i in range(1,101)]",
      "metadata": {
        "trusted": true
      },
      "execution_count": 32,
      "outputs": []
    },
    {
      "cell_type": "code",
      "source": "l2 = list(filter(lambda x : x%3 == 0 , l1))",
      "metadata": {
        "trusted": true
      },
      "execution_count": 48,
      "outputs": []
    },
    {
      "cell_type": "code",
      "source": "l2",
      "metadata": {
        "trusted": true
      },
      "execution_count": 49,
      "outputs": [
        {
          "execution_count": 49,
          "output_type": "execute_result",
          "data": {
            "text/plain": "[3,\n 6,\n 9,\n 12,\n 15,\n 18,\n 21,\n 24,\n 27,\n 30,\n 33,\n 36,\n 39,\n 42,\n 45,\n 48,\n 51,\n 54,\n 57,\n 60,\n 63,\n 66,\n 69,\n 72,\n 75,\n 78,\n 81,\n 84,\n 87,\n 90,\n 93,\n 96,\n 99]"
          },
          "metadata": {}
        }
      ]
    },
    {
      "cell_type": "code",
      "source": "",
      "metadata": {},
      "execution_count": null,
      "outputs": []
    }
  ]
}