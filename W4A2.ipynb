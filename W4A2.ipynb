{
  "metadata": {
    "language_info": {
      "codemirror_mode": {
        "name": "python",
        "version": 3
      },
      "file_extension": ".py",
      "mimetype": "text/x-python",
      "name": "python",
      "nbconvert_exporter": "python",
      "pygments_lexer": "ipython3",
      "version": "3.8"
    },
    "kernelspec": {
      "name": "python",
      "display_name": "Python (Pyodide)",
      "language": "python"
    }
  },
  "nbformat_minor": 4,
  "nbformat": 4,
  "cells": [
    {
      "cell_type": "markdown",
      "source": "Q1. What is Abstraction in OOps? Explain with an example.",
      "metadata": {}
    },
    {
      "cell_type": "markdown",
      "source": "Abstraction in python is defined as a process of handling complexity by hiding unnecessary information from the user.",
      "metadata": {}
    },
    {
      "cell_type": "code",
      "source": "import abc",
      "metadata": {
        "trusted": true
      },
      "execution_count": 10,
      "outputs": []
    },
    {
      "cell_type": "code",
      "source": "class pwskills():\n    \n    @abc.abstractmethod\n    def course_details(self):\n        pass\n    \n    @abc.abstractmethod\n    def assignments(self):\n        pass\n    @abc.abstractmethod\n    def mentors(self):\n        return 'These are the mentors'",
      "metadata": {
        "trusted": true
      },
      "execution_count": 11,
      "outputs": []
    },
    {
      "cell_type": "code",
      "source": "pw = pwskills()",
      "metadata": {
        "trusted": true
      },
      "execution_count": 12,
      "outputs": []
    },
    {
      "cell_type": "code",
      "source": "class datascience(pwskills):\n    \n    def course_details(self):\n        return 'This is a course on Data science'\n    \n    def assigments(self):\n        return 'These are assignments of Data Science'",
      "metadata": {
        "trusted": true
      },
      "execution_count": 13,
      "outputs": []
    },
    {
      "cell_type": "code",
      "source": "class Web_dev(pwskills):\n    \n    def course_details(self):\n        return 'This is a course on Web Dev'\n    \n    def assigments(self):\n        return 'These are assignments of Web Dev'",
      "metadata": {
        "trusted": true
      },
      "execution_count": 14,
      "outputs": []
    },
    {
      "cell_type": "code",
      "source": "ds = datascience()",
      "metadata": {
        "trusted": true
      },
      "execution_count": 15,
      "outputs": []
    },
    {
      "cell_type": "code",
      "source": "ds.course_details()",
      "metadata": {
        "trusted": true
      },
      "execution_count": 16,
      "outputs": [
        {
          "execution_count": 16,
          "output_type": "execute_result",
          "data": {
            "text/plain": "'This is a course on Data science'"
          },
          "metadata": {}
        }
      ]
    },
    {
      "cell_type": "code",
      "source": "wd = Web_dev()",
      "metadata": {
        "trusted": true
      },
      "execution_count": 17,
      "outputs": []
    },
    {
      "cell_type": "code",
      "source": "wd.course_details()",
      "metadata": {
        "trusted": true
      },
      "execution_count": 18,
      "outputs": [
        {
          "execution_count": 18,
          "output_type": "execute_result",
          "data": {
            "text/plain": "'This is a course on Web Dev'"
          },
          "metadata": {}
        }
      ]
    },
    {
      "cell_type": "markdown",
      "source": "Here we have created a class PWskills and created a set of methods and Datascience and Web_dev are the child classes build from the abstract class pwskills.",
      "metadata": {}
    },
    {
      "cell_type": "markdown",
      "source": "Q2. Differentiate between Abstraction and Encapsulation. Explain with an example.",
      "metadata": {}
    },
    {
      "cell_type": "markdown",
      "source": "Abstraction as mentioned earlier its a way of representing data by creating a blueprint or skeleton of the code whereas Encapsulation is a method in which we hide informations from the user either due to access issues or to hide the complexity if the code and exposing only the parts which the programmer wishes to expose.",
      "metadata": {}
    },
    {
      "cell_type": "markdown",
      "source": "Lets take example of my laptop, I don't need to know the inner workings of each and every hardware in order to operate my laptop. Without knowing the details I have a user interface to access the working of my laptop and Chrome has the ability to be utilised for various different works so it shows the properties of abstraction",
      "metadata": {}
    },
    {
      "cell_type": "markdown",
      "source": "Q3. What is abc module in python? Why is it used?",
      "metadata": {}
    },
    {
      "cell_type": "markdown",
      "source": "The 'abc' module in Python library provides the infrastructure for defining custom abstract base classes.\n\n'abc' works by marking methods of the base class as abstract. This is done by @absttractmethod decorator.",
      "metadata": {}
    },
    {
      "cell_type": "markdown",
      "source": "Q4. How can we achieve data abstraction?",
      "metadata": {}
    },
    {
      "cell_type": "markdown",
      "source": "Data Abstraction in Python can be achieved through creating abstract classes and inheriting them later.",
      "metadata": {}
    },
    {
      "cell_type": "markdown",
      "source": "Q5. Can we create an instance of an abstract class? Explain your answer.",
      "metadata": {}
    },
    {
      "cell_type": "markdown",
      "source": "Abstract classes are not complete, as they may have some methods that are not defined. So we cannot create an instance or object of an abstract class in Python. If we try to instantiate the abstract class, it raises an error.",
      "metadata": {}
    }
  ]
}