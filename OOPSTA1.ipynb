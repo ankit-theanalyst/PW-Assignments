{
  "metadata": {
    "language_info": {
      "codemirror_mode": {
        "name": "python",
        "version": 3
      },
      "file_extension": ".py",
      "mimetype": "text/x-python",
      "name": "python",
      "nbconvert_exporter": "python",
      "pygments_lexer": "ipython3",
      "version": "3.8"
    },
    "kernelspec": {
      "name": "python",
      "display_name": "Python (Pyodide)",
      "language": "python"
    }
  },
  "nbformat_minor": 4,
  "nbformat": 4,
  "cells": [
    {
      "cell_type": "markdown",
      "source": "Q1. Create a vehicle class with an init method having instance variables as name_of_vehicle, max_speed\nand average_of_vehicle.",
      "metadata": {}
    },
    {
      "cell_type": "code",
      "source": "class vehicle:\n    \n    def __init__(self, name_of_vehicle, max_speed, average_of_vehicle):\n        self.name_of_vehicle = name_of_vehicle\n        self.max_speed = max_speed\n        self.average_of_vehicle = average_of_vehicle",
      "metadata": {
        "trusted": true
      },
      "execution_count": 1,
      "outputs": []
    },
    {
      "cell_type": "code",
      "source": "mercedes = vehicle('Mercedes', 230, 8)",
      "metadata": {
        "trusted": true
      },
      "execution_count": 2,
      "outputs": []
    },
    {
      "cell_type": "code",
      "source": "mercedes.max_speed",
      "metadata": {
        "trusted": true
      },
      "execution_count": 4,
      "outputs": [
        {
          "execution_count": 4,
          "output_type": "execute_result",
          "data": {
            "text/plain": "230"
          },
          "metadata": {}
        }
      ]
    },
    {
      "cell_type": "markdown",
      "source": "Q2. Create a child class car from the vehicle class created in Que 1, which will inherit the vehicle class.\nCreate a method named seating_capacity which takes capacity as an argument and returns the name of\nthe vehicle and its seating capacity.",
      "metadata": {}
    },
    {
      "cell_type": "code",
      "source": "class car(vehicle):\n    \n    def seating_capacity(self, capacity):\n        self.seating_capacity = capacity\n        return self.name_of_vehicle, self.seating_capacity",
      "metadata": {
        "trusted": true
      },
      "execution_count": 5,
      "outputs": []
    },
    {
      "cell_type": "code",
      "source": "car_obj = car('Mercedes', 200, 8)",
      "metadata": {
        "trusted": true
      },
      "execution_count": 8,
      "outputs": []
    },
    {
      "cell_type": "code",
      "source": "car_obj.seating_capacity(4)",
      "metadata": {
        "trusted": true
      },
      "execution_count": 10,
      "outputs": [
        {
          "execution_count": 10,
          "output_type": "execute_result",
          "data": {
            "text/plain": "('Mercedes', 4)"
          },
          "metadata": {}
        }
      ]
    },
    {
      "cell_type": "markdown",
      "source": "Q3. What is multiple inheritance? Write a python code to demonstrate multiple inheritance.",
      "metadata": {}
    },
    {
      "cell_type": "markdown",
      "source": "multiple inheritance occurs when a child class inherits the properties of 2 or more parent class not necessarily being that the parent class inherits each other's properties. Example below:\n",
      "metadata": {}
    },
    {
      "cell_type": "code",
      "source": "class parent1:\n    \n    def prop1(self):\n        return 'These are the properties of parent1'\n    \nclass parent2:\n    \n    def prop2(self):\n        return 'These are the properties of parent2'\n    ",
      "metadata": {
        "trusted": true
      },
      "execution_count": 11,
      "outputs": []
    },
    {
      "cell_type": "code",
      "source": "class child(parent1,parent2):\n    pass",
      "metadata": {
        "trusted": true
      },
      "execution_count": 12,
      "outputs": []
    },
    {
      "cell_type": "code",
      "source": "child_obj = child()",
      "metadata": {
        "trusted": true
      },
      "execution_count": 13,
      "outputs": []
    },
    {
      "cell_type": "code",
      "source": "child_obj.prop1()",
      "metadata": {
        "trusted": true
      },
      "execution_count": 14,
      "outputs": [
        {
          "execution_count": 14,
          "output_type": "execute_result",
          "data": {
            "text/plain": "'These are the properties of parent1'"
          },
          "metadata": {}
        }
      ]
    },
    {
      "cell_type": "code",
      "source": "child_obj.prop2()",
      "metadata": {
        "trusted": true
      },
      "execution_count": 15,
      "outputs": [
        {
          "execution_count": 15,
          "output_type": "execute_result",
          "data": {
            "text/plain": "'These are the properties of parent2'"
          },
          "metadata": {}
        }
      ]
    },
    {
      "cell_type": "markdown",
      "source": "Q4. What are getter and setter in python? Create a class and create a getter and a setter method in this\nclass.",
      "metadata": {}
    },
    {
      "cell_type": "markdown",
      "source": "Getter are the methods in which we can give the user a limited access to the encapsulated fields which they cannot access directly.\nSetter are the methods in which the user gets an access to change the data but with some terms and conditions which has been set in the program already",
      "metadata": {}
    },
    {
      "cell_type": "code",
      "source": "class bank_account:\n    \n    def __init__(self,balance):\n        self.__balance = balance\n    \n    def deposit(self,amount):\n        #this is a setter\n        self.__balance = self.__balance + amount if amount > 0 else False\n    \n    def withdraw(self,amount):\n        #this is a setter\n        if self.__balance > amount:\n            self.__balance = self.__balance - amount\n            return True\n        else:\n            return False\n    \n    def view_balance(self):\n        #this is a getter\n        return self.__balance",
      "metadata": {
        "trusted": true
      },
      "execution_count": 21,
      "outputs": []
    },
    {
      "cell_type": "code",
      "source": "bank = bank_account(1000)",
      "metadata": {
        "trusted": true
      },
      "execution_count": 22,
      "outputs": []
    },
    {
      "cell_type": "code",
      "source": "bank.withdraw(500)",
      "metadata": {
        "trusted": true
      },
      "execution_count": 23,
      "outputs": [
        {
          "execution_count": 23,
          "output_type": "execute_result",
          "data": {
            "text/plain": "True"
          },
          "metadata": {}
        }
      ]
    },
    {
      "cell_type": "code",
      "source": "bank.view_balance()",
      "metadata": {
        "trusted": true
      },
      "execution_count": 24,
      "outputs": [
        {
          "execution_count": 24,
          "output_type": "execute_result",
          "data": {
            "text/plain": "500"
          },
          "metadata": {}
        }
      ]
    },
    {
      "cell_type": "markdown",
      "source": "Q5.What is method overriding in python? Write a python code to demonstrate method overriding.",
      "metadata": {}
    },
    {
      "cell_type": "markdown",
      "source": "Method overriding is an ability of any object-oriented programming language that allows a subclass or child class to provide a specific implementation of a method that is already provided by one of its super-classes or parent classes. When a method in a subclass has the same name, same parameters or signature and same return type(or sub-type) as a method in its super-class, then the method in the subclass is said to override the method in the super-class.",
      "metadata": {}
    },
    {
      "cell_type": "code",
      "source": "class animal:\n    \n    def voice(self):\n        return 'This is the voice of the animal'",
      "metadata": {
        "trusted": true
      },
      "execution_count": 1,
      "outputs": []
    },
    {
      "cell_type": "code",
      "source": "class dog(animal):\n    \n    def voice(self):\n        return 'a dog barks'",
      "metadata": {
        "trusted": true
      },
      "execution_count": 3,
      "outputs": []
    },
    {
      "cell_type": "code",
      "source": "dog_obj = dog()",
      "metadata": {
        "trusted": true
      },
      "execution_count": 4,
      "outputs": []
    },
    {
      "cell_type": "code",
      "source": "dog_obj.voice()",
      "metadata": {
        "trusted": true
      },
      "execution_count": 8,
      "outputs": [
        {
          "execution_count": 8,
          "output_type": "execute_result",
          "data": {
            "text/plain": "'a dog barks'"
          },
          "metadata": {}
        }
      ]
    },
    {
      "cell_type": "code",
      "source": "animal_obj = animal()",
      "metadata": {
        "trusted": true
      },
      "execution_count": 9,
      "outputs": []
    },
    {
      "cell_type": "code",
      "source": "animal_obj.voice()",
      "metadata": {
        "trusted": true
      },
      "execution_count": 10,
      "outputs": [
        {
          "execution_count": 10,
          "output_type": "execute_result",
          "data": {
            "text/plain": "'This is the voice of the animal'"
          },
          "metadata": {}
        }
      ]
    },
    {
      "cell_type": "code",
      "source": "",
      "metadata": {},
      "execution_count": null,
      "outputs": []
    },
    {
      "cell_type": "code",
      "source": "",
      "metadata": {},
      "execution_count": null,
      "outputs": []
    }
  ]
}